{
 "cells": [
  {
   "cell_type": "code",
   "execution_count": 7,
   "id": "ab56df27",
   "metadata": {},
   "outputs": [],
   "source": [
    "file_path = r\"..\\data\\resume\\bhargavDasRsm.pdf\""
   ]
  },
  {
   "cell_type": "code",
   "execution_count": 8,
   "id": "8992a22e",
   "metadata": {},
   "outputs": [],
   "source": [
    "import pdfplumber\n",
    "\n",
    "def text_extractore(file_path):\n",
    "    text = \"\"\n",
    "    with pdfplumber.open(file_path) as pdf:\n",
    "        for page in pdf.pages:\n",
    "            text += page.extract_text() + \"\\n\"\n",
    "\n",
    "    return text\n",
    "\n",
    "resume_text = text_extractore(file_path=file_path)"
   ]
  },
  {
   "cell_type": "code",
   "execution_count": 24,
   "id": "49331380",
   "metadata": {},
   "outputs": [
    {
     "data": {
      "text/plain": [
       "'Bhargav Das\\n+91 9871079256 | erbhargavdas@gmail.com | linkedin.com/in/bhrgvbhrgv | github.com/bhrgvbhrgv\\nEducation\\nBaderia Global Institute of Engineering & Management Jabalpur\\nBachelor of Technology in Computer Science July 2022 - July 2026\\nAditya Convent Senior Secondary School Jabalpur\\nClass XII July 2021 - July 2022\\nExperience\\nFreelanced — Full-Stack Web Developer Aug 2024 - Sept 2024\\nCreative Interior India\\n• Tech Stack: React.js, Next.js, CSS, Firebase\\n• Achieved 90+ Google Lighthouse scores in performance, accessibility, and SEO through optimized architecture and\\nclean code.\\n• Attracted 1,000+ unique visitors within the first 3 months of launch through SEO and social sharing.\\n• Integrated Firebase for scalable backend services including real-time database and secure hosting, ensuring 99.9%\\nuptime.\\n• Live Link: https://creativeconstruction.in/\\nInternship: Front-End Web Developer Mar 2023 - May 2023\\nDAO Info-Tech\\n• Contributed to the development and launch of 6+ business websites, increasing client visibility and engagement by\\nup to 40%.\\n• Gained hands-on experience with HTML, CSS, JavaScript, and modern frameworks (e.g., React.js), reducing\\ndevelopment time by 25% through reusable components.\\n• Assisted in debugging and performance optimization, leading to 30% faster page load speeds and improved user\\nretention.\\n• Ensured mobile responsiveness across 20+ device breakpoints, improving cross-platform accessibility scores by 15%.\\nProjects\\nStreamTweet | React, Axios, Express, Mongoose, Multer, JWT and Bycrpt May 2025 – May 2025\\n• Developed a full-stack web application that integrates core functionalities of YouTube and Twitter using React.js,\\nNode.js, Express, and MongoDB.\\n• Designed and implemented video upload, streaming, commenting, and like features to simulate YouTube’s user\\nexperience.\\n• Built Twitter-style post creation, feed rendering, and user interaction modules including retweets, likes, share and\\nreplies.\\n• Managed user authentication, session handling, and role-based access control with JWT and bcrypt for secure login\\nand operations.\\nLiveConnect | React, Axios, Socket.io, Express, Mongoose June 2025 – June 2025\\n• Built a real-time chat application using the MERN stack and Socket.io for bidirectional communication.\\n• Designedandimplementedover10RESTfulAPIroutesformessagehandling, usermanagement, andchatrooms.\\n• Developed the frontend using React.js and integrated multiple third-party libraries including Axios and React\\nRouter.\\n• Used MongoDB to store user profiles and chat logs with efficient schema design and querying.\\nTechnical Skills\\nLanguages: JavaScript, HTML/CSS, C++, SQL, Python\\nFrameworks: React.js, Node.js, Express.js, Tailwind CSS\\nLibraries: MongoDB, THREE.js\\nDeveloper Tools: Git, RESTful APIs, User Testing Tools\\n'"
      ]
     },
     "execution_count": 24,
     "metadata": {},
     "output_type": "execute_result"
    }
   ],
   "source": [
    "resume_text"
   ]
  },
  {
   "cell_type": "code",
   "execution_count": 12,
   "id": "528a9e40",
   "metadata": {},
   "outputs": [],
   "source": [
    "def save_resume_text(resume_text: str, file_name: str):\n",
    "    with open(f\"{file_name}.txt\", \"w\", encoding=\"utf-8\") as f:\n",
    "        f.write(resume_text)"
   ]
  },
  {
   "cell_type": "code",
   "execution_count": 15,
   "id": "f7e15359",
   "metadata": {},
   "outputs": [],
   "source": [
    "save_resume_text(resume_text, \"bhargavDasRsm\")"
   ]
  },
  {
   "cell_type": "code",
   "execution_count": 20,
   "id": "ec1dffe6",
   "metadata": {},
   "outputs": [],
   "source": [
    "from langchain_groq import ChatGroq\n",
    "\n",
    "def get_llm_model(model_id: str = \"llama-3.1-8b-instant\"):\n",
    "    llm = ChatGroq(model=model_id,\n",
    "               temperature=0,\n",
    "               verbose=True)\n",
    "    return llm"
   ]
  },
  {
   "cell_type": "code",
   "execution_count": 21,
   "id": "2733159c",
   "metadata": {},
   "outputs": [],
   "source": [
    "llm = get_llm_model()"
   ]
  },
  {
   "cell_type": "code",
   "execution_count": 23,
   "id": "83699e3c",
   "metadata": {},
   "outputs": [
    {
     "data": {
      "text/plain": [
       "'The capital of France is Paris.'"
      ]
     },
     "execution_count": 23,
     "metadata": {},
     "output_type": "execute_result"
    }
   ],
   "source": [
    "llm.invoke(input=\"what is the capital of France?\").content"
   ]
  },
  {
   "cell_type": "code",
   "execution_count": 29,
   "id": "20ab2ce9",
   "metadata": {},
   "outputs": [],
   "source": [
    "from langchain_core.prompts import PromptTemplate\n",
    "import re\n",
    "\n",
    "def extract_skills(text: str, llm: str = get_llm_model()):\n",
    "\n",
    "    # ---------- Step 2: Prompt for Skill Extraction ----------\n",
    "    skill_prompt = PromptTemplate.from_template(\"\"\"\n",
    "            You are an expert HR assistant that extracts technical and professional skills from resumes and job descriptions.\n",
    "\n",
    "            Instructions:\n",
    "            - Extract only SKILLS from the given text.\n",
    "            - Normalize variations into a common standard (e.g., VLOOKUP → Excel, Random Forest → Machine Learning).\n",
    "            - Return output strictly in JSON format like:\n",
    "            {{\"Skill1\", \"Skill2\", \"Skill3\"}}\n",
    "            - Don't return any additional text or explanations.\n",
    "\n",
    "            Text:\n",
    "            {context}\n",
    "            \"\"\")\n",
    "\n",
    "    prompt = skill_prompt.format(context=text)\n",
    "    response = llm.invoke(prompt)\n",
    "    jd_skills = response.content.strip()\n",
    "    \n",
    "    match = re.search(r\"\\{.*\\}\", jd_skills, re.DOTALL)\n",
    "    if match:\n",
    "        raw = match.group(0)\n",
    "\n",
    "    return raw\n"
   ]
  },
  {
   "cell_type": "code",
   "execution_count": 31,
   "id": "1f4aff37",
   "metadata": {},
   "outputs": [],
   "source": [
    "skills = extract_skills(text=resume_text)"
   ]
  },
  {
   "cell_type": "code",
   "execution_count": 32,
   "id": "19facf8a",
   "metadata": {},
   "outputs": [
    {
     "name": "stdout",
     "output_type": "stream",
     "text": [
      "{\n",
      "  \"JavaScript\",\n",
      "  \"HTML/CSS\",\n",
      "  \"C++\",\n",
      "  \"SQL\",\n",
      "  \"Python\",\n",
      "  \"React\",\n",
      "  \"Node\",\n",
      "  \"Express\",\n",
      "  \"Tailwind CSS\",\n",
      "  \"MongoDB\",\n",
      "  \"THREE.js\",\n",
      "  \"Git\",\n",
      "  \"RESTful APIs\",\n",
      "  \"User Testing Tools\",\n",
      "  \"Firebase\",\n",
      "  \"CSS\",\n",
      "  \"Next.js\",\n",
      "  \"Axios\",\n",
      "  \"Socket.io\",\n",
      "  \"Mongoose\",\n",
      "  \"Multer\",\n",
      "  \"JWT\",\n",
      "  \"Bycrpt\",\n",
      "  \"React Router\"\n",
      "}\n"
     ]
    }
   ],
   "source": [
    "print(skills)"
   ]
  },
  {
   "cell_type": "code",
   "execution_count": null,
   "id": "c2d53728",
   "metadata": {},
   "outputs": [],
   "source": []
  }
 ],
 "metadata": {
  "kernelspec": {
   "display_name": ".venv",
   "language": "python",
   "name": "python3"
  },
  "language_info": {
   "codemirror_mode": {
    "name": "ipython",
    "version": 3
   },
   "file_extension": ".py",
   "mimetype": "text/x-python",
   "name": "python",
   "nbconvert_exporter": "python",
   "pygments_lexer": "ipython3",
   "version": "3.13.5"
  }
 },
 "nbformat": 4,
 "nbformat_minor": 5
}
