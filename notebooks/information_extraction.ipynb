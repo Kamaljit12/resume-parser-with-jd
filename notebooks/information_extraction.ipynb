{
 "cells": [
  {
   "cell_type": "code",
   "execution_count": 22,
   "id": "ec023ef9",
   "metadata": {},
   "outputs": [],
   "source": [
    "from langchain_groq import ChatGroq\n",
    "from dotenv import load_dotenv\n",
    "import os\n",
    "load_dotenv()\n",
    "\n",
    "os.environ['GROQ_API_KEY'] = os.getenv(\"GROQ_API_KEY\")"
   ]
  },
  {
   "cell_type": "code",
   "execution_count": 23,
   "id": "7bc01f1d",
   "metadata": {},
   "outputs": [],
   "source": [
    "model_name = \"llama-3.1-8b-instant\"\n",
    "llm = ChatGroq(model=model_name,\n",
    "               temperature=0,\n",
    "               verbose=True\n",
    "               )"
   ]
  },
  {
   "cell_type": "code",
   "execution_count": 24,
   "id": "39f227f8",
   "metadata": {},
   "outputs": [],
   "source": [
    "import pdfplumber\n",
    "\n",
    "\n",
    "def text_extractore(file_path):\n",
    "    text = \"\"\n",
    "    with pdfplumber.open(file_path) as pdf:\n",
    "        for page in pdf.pages:\n",
    "            text += page.extract_text() + \"\\n\"\n",
    "\n",
    "    return text\n",
    "\n",
    "file_path = r\"..\\documents\\bhargavDasRsm.pdf\"\n",
    "resume_text = text_extractore(file_path=file_path)"
   ]
  },
  {
   "cell_type": "code",
   "execution_count": 25,
   "id": "d31e906a",
   "metadata": {},
   "outputs": [],
   "source": [
    "jd_text = \"\"\"\n",
    "Job Title: Machine Learning Engineer\n",
    "Experience Required: 2+ years\n",
    "Location: Bangalore, India\n",
    "Job Type: Full-time\n",
    "\n",
    "Responsibilities:\n",
    "Design, build, and deploy machine learning models for predictive analytics.\n",
    "Preprocess and analyze structured and unstructured data.\n",
    "Implement feature engineering, model training, and hyperparameter tuning.\n",
    "Work with Python libraries (Pandas, NumPy, Scikit-learn, TensorFlow/PyTorch).\n",
    "Collaborate with data engineers and software developers to integrate models into production systems.\n",
    "Monitor model performance and retrain as needed.\n",
    "Requirements:\n",
    "Bachelor’s degree in Computer Science, Data Science, or related field.\n",
    "Strong knowledge of supervised and unsupervised ML algorithms (Linear Regression, Random Forest, SVM, Clustering).\n",
    "Hands-on experience with Python and ML libraries.\n",
    "Exposure to deep learning frameworks (TensorFlow, PyTorch).\n",
    "Familiarity with SQL and cloud platforms (AWS/GCP/Azure).\n",
    "Excellent problem-solving and analytical skills.\n",
    "Nice to Have:\n",
    "Experience with NLP or Computer Vision projects.\n",
    "Knowledge of MLOps practices (Docker, MLflow, CI/CD).\"\"\" "
   ]
  },
  {
   "cell_type": "code",
   "execution_count": 26,
   "id": "5fe4e742",
   "metadata": {},
   "outputs": [],
   "source": [
    "from langchain.prompts import PromptTemplate\n",
    "import re\n",
    "import ast\n",
    "\n",
    "\n",
    "def extract_skills(text: str):\n",
    "\n",
    "    # ---------- Step 2: Prompt for Skill Extraction ----------\n",
    "    skill_prompt = PromptTemplate.from_template(\"\"\"\n",
    "            You are an expert HR assistant that extracts technical and professional skills from resumes and job descriptions.\n",
    "\n",
    "            Instructions:\n",
    "            - Extract only SKILLS from the given text.\n",
    "            - Normalize variations into a common standard (e.g., VLOOKUP → Excel, Random Forest → Machine Learning).\n",
    "            - Return output strictly in JSON format like:\n",
    "            {{\"Skill1\", \"Skill2\", \"Skill3\"}}\n",
    "            - Don't return any additional text or explanations.\n",
    "\n",
    "            Text:\n",
    "            {context}\n",
    "            \"\"\")\n",
    "\n",
    "    prompt = skill_prompt.format(context=text)\n",
    "    response = llm.invoke(prompt)\n",
    "    jd_skills = response.content.strip()\n",
    "    \n",
    "    match = re.search(r\"\\{.*\\}\", jd_skills, re.DOTALL)\n",
    "    if match:\n",
    "        raw = match.group(0)\n",
    "\n",
    "    return raw"
   ]
  },
  {
   "cell_type": "code",
   "execution_count": 27,
   "id": "4cf5727c",
   "metadata": {},
   "outputs": [],
   "source": [
    "jd_skills = extract_skills(text=jd_text)\n",
    "resume_skills = extract_skills(text=resume_text)"
   ]
  },
  {
   "cell_type": "code",
   "execution_count": 28,
   "id": "0562b1ce",
   "metadata": {},
   "outputs": [],
   "source": [
    "from sentence_transformers import SentenceTransformer, util\n",
    "\n",
    "# ---------- Step 1: Embedding Model ----------\n",
    "embed_model = SentenceTransformer(\"sentence-transformers/all-MiniLM-L6-v2\")"
   ]
  },
  {
   "cell_type": "code",
   "execution_count": 29,
   "id": "ea00b5fa",
   "metadata": {},
   "outputs": [],
   "source": [
    "jd_embed = embed_model.encode(jd_skills, convert_to_tensor=True)\n",
    "resume_embed = embed_model.encode(resume_skills, convert_to_tensor=True)"
   ]
  },
  {
   "cell_type": "code",
   "execution_count": 30,
   "id": "97a9de54",
   "metadata": {},
   "outputs": [
    {
     "name": "stdout",
     "output_type": "stream",
     "text": [
      "Score: 47.85%\n"
     ]
    }
   ],
   "source": [
    "simi_score = float(util.cos_sim(jd_embed, resume_embed))*100\n",
    "print(f\"Score: {simi_score:.2f}%\")"
   ]
  },
  {
   "cell_type": "markdown",
   "id": "b4b888ed",
   "metadata": {},
   "source": [
    "#### AI/M JD from linkedin"
   ]
  },
  {
   "cell_type": "code",
   "execution_count": 31,
   "id": "d149fb30",
   "metadata": {},
   "outputs": [],
   "source": [
    "ai_ml_jd = \"\"\"🚀 Data Science (AI/ML) – Infosys Finacle\n",
    "\n",
    "\n",
    "\n",
    "📍 Location: [Bangalore/Chennai]\n",
    " Experience: [2-15 years]\n",
    "\n",
    "\n",
    "Are you passionate about leveraging AI and data science to transform banking technology? Join Infosys Finacle and help drive innovation in the financial services industry!\n",
    "\n",
    "\n",
    "What You’ll Do:\n",
    "Work on cutting-edge AI solutions in partnership with top industry leaders\n",
    "Propose innovative solutions and adapt quickly in a dynamic learning environment\n",
    "Build AI algorithms and design experiments to merge, manage, and extract actionable insights from large data sets\n",
    "Use predictive modeling to enhance customer experiences, optimize revenue, improve ad targeting, and achieve other business goals\n",
    "Develop Explainable and Responsible AI models\n",
    "Conduct research to develop prototypes and proof of concepts\n",
    "Identify opportunities to apply data science insights across various teams and functions\n",
    "Inspire others with your enthusiasm for solving complex problems with algorithms\n",
    "\n",
    "\n",
    "What We’re Looking For:\n",
    "2 to 10+ years of relevant experience in data science or analytics\n",
    "Strong analytical and problem-solving skills\n",
    "Proficiency with statistical programming languages such as Python, SQL, etc.\n",
    "In-depth knowledge of advanced statistical techniques (regression, distributions, statistical tests, etc.)\n",
    "Experience with machine learning algorithms including regression, simulation, scenario analysis, modeling, clustering, decision trees, neural networks\n",
    "Ability to deploy models as APIs\n",
    "Excellent communication and presentation skills to convey complex ideas to non-technical stakeholders\n",
    "\n",
    "\n",
    "Ready to Make an Impact?\n",
    "\n",
    "\n",
    "Email your CV and details to sweta.singh09@infosys.com\n",
    "\n",
    "\n",
    "\n",
    "Interview process: -3 rounds\n",
    "\n",
    "\n",
    "\n",
    "1-Online Coding Assessment (120 Mins).\n",
    "\n",
    "2-Technical Round\n",
    "\n",
    "3-Hiring manager Round\n",
    "\n",
    "\n",
    "\n",
    "🌐 Why Infosys Finacle?\n",
    "\n",
    "Build core banking platforms used by global financial institutions\n",
    "Learn, grow, and innovate with the best minds in the industry\n",
    "Be a part of a global digital banking transformation\n",
    "\n",
    "\n",
    "About Finacle\n",
    "\n",
    "Finacle is an industry leader in digital banking solutions. We partner with emerging and established financial institutions to inspire better banking. Our cloud-native solution suite and SaaS services help banks to engage, innovate, operate, and transform better. We are a business unit of EdgeVerve Systems, a wholly-owned product subsidiary of Infosys – a global technology leader with over USD 15 billion in annual revenues. We are differentiated by our functionally rich solution suite, composable architecture, culture, and entrepreneurial spirit of a start-up. We are also known for an impeccable track record of helping financial institutions of all sizes drive digital transformation at speed and scale.\n",
    "Today, financial institutions in more than 100 countries rely on Finacle to help more than a billion people and millions of businesses to save, pay, borrow, and invest better.\n",
    "\n",
    "\n",
    "Finacle website (https://www.edgeverve.com/finacle/solutions/)\n",
    "\n",
    "\n",
    "\n",
    "Disclaimer: - Edgeverve Systems does not engage with external manpower agencies or charge any fees from candidates for recruitment. If you encounter such scams, please report them immediately.\"\"\""
   ]
  },
  {
   "cell_type": "code",
   "execution_count": 54,
   "id": "b4d36810",
   "metadata": {},
   "outputs": [],
   "source": [
    "ai_ml_jd = \"\"\"About Yulu\n",
    "\n",
    "Yulu is India’s leading shared micro-mobility platform, revolutionizing urban transportation through smart, sustainable, and electric-first mobility solutions. With a rapidly growing fleet of tech-enabled electric two-wheelers and a robust battery-swapping infrastructure, Yulu makes last-mile commutes not only efficient but also planet-friendly.\n",
    "Our IoT-driven platform and smart electric vehicles are helping cities reduce traffic congestion and carbon emissions while empowering millions with affordable and reliable transportation.\n",
    "Backed by industry giants like Bajaj Auto and Magna International, Yulu operates at the intersection of mobility, technology, and sustainability. Our mission is to reduce congestion, cut emissions, and transform how India moves — one ride at a time.\n",
    "With millions of rides completed, thousands of EVs on the road, and a rapidly expanding footprint, we’re not just building EVs — we’re building the future of urban mobility in India.\n",
    "\n",
    "🔗 Learn more: www.yulu.bike\n",
    "\n",
    "Role Summary \n",
    "\n",
    "Yulu is looking for a Data Scientist to work on developing and refining statistical models and Machine Learning algorithms to address real-world challenges. You will collaborate with cross-functional teams to identify analytical needs, perform exploratory data analysis, and optimize model performance. The role also involves building and maintaining data pipelines, ensuring data quality, and staying up-to-date with emerging AI/ML technologies. If you are passionate about using data to solve impactful problems and transform urban mobility, join us in our mission to reduce traffic congestion and air pollution!\n",
    "\n",
    "\n",
    "Key Responsibilities \n",
    "\n",
    "Collect, clean, and preprocess data from diverse sources to ensure quality and accuracy.\n",
    "Develop and refine statistical models and Machine Learning (ML) algorithms to solve real-world problems.\n",
    "Collaborate with cross-functional teams (e.g., data engineering, product, and business) to identify and understand analytical needs.\n",
    "Perform exploratory data analysis (EDA) to uncover patterns, trends, and relationships in datasets.\n",
    "Evaluate model performance using appropriate metrics, and iterate to optimize accuracy and efficiency.\n",
    "Document analyses, methodologies, and best practices to maintain clear records for future reference.\n",
    "Stay up-to-date with emerging AI/ML technologies and actively explore new approaches—especially in the areas of deep learning, Generative AI, and Large Language Models (LLMs).\n",
    "Present findings and insights to both technical and non-technical stakeholders in a clear, concise manner.\n",
    "\n",
    "\n",
    "Qualifications \n",
    "\n",
    "Strong grounding in statistics, math, and machine learning\n",
    "Hands-on Python: pandas, NumPy, scikit-learn\n",
    "Comfortable working with data in SQL and/or pandas (joins, windows, groupbys)\n",
    "Clear written and verbal communication\n",
    "Experience with GenAI/LLMs (prompts, embeddings, simple RAG)\n",
    "Visualization: Streamlit, Matplotlib/Seaborn (or Plotly)\n",
    "Operations Research basics: vehicle routing, task assignment (e.g.,\n",
    "Hungarian), Job Scheduling\n",
    "Good software habits: Git, environments, basic tests; any cloud/warehouse exposure\n",
    "\n",
    "\n",
    "We assure you \n",
    "\n",
    "Be a part of an innovative company that values professional growth, trustworthy colleagues, a fun environment in the office, and well-being for the employees\n",
    "A culture that fosters growth, integrity, and innovation\"\"\""
   ]
  },
  {
   "cell_type": "code",
   "execution_count": null,
   "id": "d551df90",
   "metadata": {},
   "outputs": [
    {
     "name": "stdout",
     "output_type": "stream",
     "text": [
      "About Yulu  Yulu is India’s leading shared micro-mobility platform, revolutionizing urban transportation through smart, sustainable, and electric-first mobility solutions. With a rapidly growing fleet of tech-enabled electric two-wheelers and a robust battery-swapping infrastructure, Yulu makes last-mile commutes not only efficient but also planet-friendly. Our IoT-driven platform and smart electric vehicles are helping cities reduce traffic congestion and carbon emissions while empowering millions with affordable and reliable transportation. Backed by industry giants like Bajaj Auto and Magna International, Yulu operates at the intersection of mobility, technology, and sustainability. Our mission is to reduce congestion, cut emissions, and transform how India moves — one ride at a time. With millions of rides completed, thousands of EVs on the road, and a rapidly expanding footprint, we’re not just building EVs — we’re building the future of urban mobility in India.  🔗 Learn more: www.yulu.bike  Role Summary   Yulu is looking for a Data Scientist to work on developing and refining statistical models and Machine Learning algorithms to address real-world challenges. You will collaborate with cross-functional teams to identify analytical needs, perform exploratory data analysis, and optimize model performance. The role also involves building and maintaining data pipelines, ensuring data quality, and staying up-to-date with emerging AI/ML technologies. If you are passionate about using data to solve impactful problems and transform urban mobility, join us in our mission to reduce traffic congestion and air pollution!   Key Responsibilities   Collect, clean, and preprocess data from diverse sources to ensure quality and accuracy. Develop and refine statistical models and Machine Learning (ML) algorithms to solve real-world problems. Collaborate with cross-functional teams (e.g., data engineering, product, and business) to identify and understand analytical needs. Perform exploratory data analysis (EDA) to uncover patterns, trends, and relationships in datasets. Evaluate model performance using appropriate metrics, and iterate to optimize accuracy and efficiency. Document analyses, methodologies, and best practices to maintain clear records for future reference. Stay up-to-date with emerging AI/ML technologies and actively explore new approaches—especially in the areas of deep learning, Generative AI, and Large Language Models (LLMs). Present findings and insights to both technical and non-technical stakeholders in a clear, concise manner.   Qualifications   Strong grounding in statistics, math, and machine learning Hands-on Python: pandas, NumPy, scikit-learn Comfortable working with data in SQL and/or pandas (joins, windows, groupbys) Clear written and verbal communication Experience with GenAI/LLMs (prompts, embeddings, simple RAG) Visualization: Streamlit, Matplotlib/Seaborn (or Plotly) Operations Research basics: vehicle routing, task assignment (e.g., Hungarian), Job Scheduling Good software habits: Git, environments, basic tests; any cloud/warehouse exposure   We assure you   Be a part of an innovative company that values professional growth, trustworthy colleagues, a fun environment in the office, and well-being for the employees A culture that fosters growth, integrity, and innovation\n"
     ]
    }
   ],
   "source": [
    "print(ai_ml_jd.replace(\"\\n\", \" \").strip())"
   ]
  },
  {
   "cell_type": "code",
   "execution_count": 56,
   "id": "14668007",
   "metadata": {},
   "outputs": [],
   "source": [
    "ai_ml_jd = ai_ml_jd.replace(\"\\n\", \" \").strip()"
   ]
  },
  {
   "cell_type": "code",
   "execution_count": 57,
   "id": "eadd8a8b",
   "metadata": {},
   "outputs": [],
   "source": [
    "ai_ml_skill = extract_skills(text=ai_ml_jd)"
   ]
  },
  {
   "cell_type": "code",
   "execution_count": 47,
   "id": "41dabb82",
   "metadata": {},
   "outputs": [],
   "source": [
    "resume_text = text_extractore(file_path=r\"..\\documents\\Kamal-jit-singh-Updated.pdf\")"
   ]
  },
  {
   "cell_type": "code",
   "execution_count": 48,
   "id": "b6ce1e21",
   "metadata": {},
   "outputs": [],
   "source": [
    "resume_skills = extract_skills(text=resume_text)"
   ]
  },
  {
   "cell_type": "code",
   "execution_count": 58,
   "id": "74e031c1",
   "metadata": {},
   "outputs": [],
   "source": [
    "jd_embed = embed_model.encode(ai_ml_skill, convert_to_tensor=True)\n",
    "resume_embed = embed_model.encode(resume_skills, convert_to_tensor=True)"
   ]
  },
  {
   "cell_type": "code",
   "execution_count": 59,
   "id": "d8ad48cd",
   "metadata": {},
   "outputs": [
    {
     "name": "stdout",
     "output_type": "stream",
     "text": [
      "Score: 85.01%\n"
     ]
    }
   ],
   "source": [
    "simi_score = float(util.cos_sim(jd_embed, resume_embed))*100\n",
    "print(f\"Score: {simi_score:.2f}%\")"
   ]
  },
  {
   "cell_type": "code",
   "execution_count": 63,
   "id": "8dcd525c",
   "metadata": {},
   "outputs": [],
   "source": [
    "# ! python -m spacy download en_core_web_sm"
   ]
  },
  {
   "cell_type": "code",
   "execution_count": 64,
   "id": "d9abbda7",
   "metadata": {},
   "outputs": [],
   "source": [
    "import spacy\n",
    "nlp = spacy.load(\"en_core_web_sm\")"
   ]
  },
  {
   "cell_type": "code",
   "execution_count": 65,
   "id": "ab2c1ed7",
   "metadata": {},
   "outputs": [
    {
     "name": "stdout",
     "output_type": "stream",
     "text": [
      "Bangalore\n"
     ]
    }
   ],
   "source": [
    "def extract_name(text: str):\n",
    "    doc = nlp(text)\n",
    "\n",
    "    for ent in doc.ents:\n",
    "        if ent.label_ == \"PERSON\":\n",
    "            return ent.text\n",
    "    return None\n",
    "\n",
    "name = extract_name(text=resume_text)\n",
    "print(name)"
   ]
  },
  {
   "cell_type": "code",
   "execution_count": 77,
   "id": "aca188cd",
   "metadata": {},
   "outputs": [],
   "source": [
    "from langchain.prompts import PromptTemplate\n",
    "from langchain_groq import ChatGroq\n",
    "\n",
    "def personal_information_extractor(text: str, model_id: str = \"llama-3.1-8b-instant\"):\n",
    "      \n",
    "      \"\"\" Model id is the identifier for the specific LLM version to use.\"\"\"\n",
    "\n",
    "      llm = ChatGroq(model=model_id,\n",
    "          temperature=0,\n",
    "          verbose=True\n",
    "          )\n",
    "      personal_info_prompt = PromptTemplate.from_template(\"\"\"\n",
    "          You are an expert Resume Parser.\n",
    "\n",
    "          Task:\n",
    "          - Extract the candidate's personal information from the given resume text.\n",
    "          - Return the information in valid JSON format with these keys:\n",
    "          - name\n",
    "          - email\n",
    "          - phone\n",
    "          - location\n",
    "          - linkedin\n",
    "          - github\n",
    "          - portfolio\n",
    "\n",
    "          If any field is missing, return it as null.\n",
    "\n",
    "          Resume Text:\n",
    "          {resume_text}\n",
    "\n",
    "          Return strictly in JSON format:\n",
    "          {{\n",
    "            \"name\": \"...\",\n",
    "            \"email\": \"...\",\n",
    "            \"phone\": \"...\",\n",
    "            \"location\": \"...\",\n",
    "            \"linkedin\": \"...\",\n",
    "            \"github\": \"...\",\n",
    "            \"portfolio\": \"...\"\n",
    "          }}\n",
    "          Don't include any explanations or additional text.\n",
    "          \"\"\")\n",
    "\n",
    "      response = llm.invoke(input = personal_info_prompt.format(resume_text=text)).content\n",
    "\n",
    "      return response\n"
   ]
  },
  {
   "cell_type": "code",
   "execution_count": 79,
   "id": "a937f6c5",
   "metadata": {},
   "outputs": [],
   "source": [
    "personal_info = personal_information_extractor(text=resume_text)"
   ]
  },
  {
   "cell_type": "code",
   "execution_count": 80,
   "id": "81326f76",
   "metadata": {},
   "outputs": [
    {
     "name": "stdout",
     "output_type": "stream",
     "text": [
      "{\n",
      "  \"name\": \"Kamal jit singh\",\n",
      "  \"email\": \"kamaljit8830@gmail.com\",\n",
      "  \"phone\": \"+918830132055\",\n",
      "  \"location\": \"Bangalore, India\",\n",
      "  \"linkedin\": \"null\",\n",
      "  \"github\": \"null\",\n",
      "  \"portfolio\": \"null\"\n",
      "}\n"
     ]
    }
   ],
   "source": [
    "print(personal_info)"
   ]
  },
  {
   "cell_type": "code",
   "execution_count": null,
   "id": "7adf0696",
   "metadata": {},
   "outputs": [],
   "source": []
  },
  {
   "cell_type": "code",
   "execution_count": null,
   "id": "fb2ac128",
   "metadata": {},
   "outputs": [],
   "source": []
  }
 ],
 "metadata": {
  "kernelspec": {
   "display_name": ".venv",
   "language": "python",
   "name": "python3"
  },
  "language_info": {
   "codemirror_mode": {
    "name": "ipython",
    "version": 3
   },
   "file_extension": ".py",
   "mimetype": "text/x-python",
   "name": "python",
   "nbconvert_exporter": "python",
   "pygments_lexer": "ipython3",
   "version": "3.13.5"
  }
 },
 "nbformat": 4,
 "nbformat_minor": 5
}
